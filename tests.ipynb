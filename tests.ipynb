{
 "cells": [
  {
   "cell_type": "code",
   "execution_count": 2,
   "id": "df61ea53",
   "metadata": {},
   "outputs": [],
   "source": [
    "import leafmap\n",
    "import streamlit\n",
    "import geopandas as gpd"
   ]
  },
  {
   "cell_type": "code",
   "execution_count": 33,
   "id": "5f0381da",
   "metadata": {},
   "outputs": [
    {
     "data": {
      "text/html": [
       "<div>\n",
       "<style scoped>\n",
       "    .dataframe tbody tr th:only-of-type {\n",
       "        vertical-align: middle;\n",
       "    }\n",
       "\n",
       "    .dataframe tbody tr th {\n",
       "        vertical-align: top;\n",
       "    }\n",
       "\n",
       "    .dataframe thead th {\n",
       "        text-align: right;\n",
       "    }\n",
       "</style>\n",
       "<table border=\"1\" class=\"dataframe\">\n",
       "  <thead>\n",
       "    <tr style=\"text-align: right;\">\n",
       "      <th></th>\n",
       "      <th>farmer</th>\n",
       "      <th>crop</th>\n",
       "      <th>district</th>\n",
       "      <th>province</th>\n",
       "      <th>area_ha</th>\n",
       "      <th>geometry</th>\n",
       "    </tr>\n",
       "  </thead>\n",
       "  <tbody>\n",
       "    <tr>\n",
       "      <th>0</th>\n",
       "      <td>Killarney Farm</td>\n",
       "      <td>Groundnut</td>\n",
       "      <td>Chibombo</td>\n",
       "      <td>Central</td>\n",
       "      <td>20.852368</td>\n",
       "      <td>MULTIPOLYGON (((28.40682 -14.81873, 28.40445 -...</td>\n",
       "    </tr>\n",
       "    <tr>\n",
       "      <th>1</th>\n",
       "      <td>ADM Farm</td>\n",
       "      <td>Groundnut</td>\n",
       "      <td>Chibombo</td>\n",
       "      <td>Central</td>\n",
       "      <td>53.496625</td>\n",
       "      <td>MULTIPOLYGON (((28.29156 -14.81992, 28.29139 -...</td>\n",
       "    </tr>\n",
       "    <tr>\n",
       "      <th>2</th>\n",
       "      <td>Simon Hunt</td>\n",
       "      <td>Groundnut</td>\n",
       "      <td>Mpongwe</td>\n",
       "      <td>Copperbelt</td>\n",
       "      <td>19.604325</td>\n",
       "      <td>MULTIPOLYGON (((28.31578 -13.61503, 28.322 -13...</td>\n",
       "    </tr>\n",
       "    <tr>\n",
       "      <th>3</th>\n",
       "      <td>Isranet Farm</td>\n",
       "      <td>Groundnut</td>\n",
       "      <td>Mpongwe</td>\n",
       "      <td>Copperbelt</td>\n",
       "      <td>49.826289</td>\n",
       "      <td>MULTIPOLYGON (((28.41546 -13.6795, 28.41705 -1...</td>\n",
       "    </tr>\n",
       "    <tr>\n",
       "      <th>4</th>\n",
       "      <td>Matulufu Farm</td>\n",
       "      <td>Groundnut</td>\n",
       "      <td>Luanshya</td>\n",
       "      <td>Copperbelt</td>\n",
       "      <td>30.613994</td>\n",
       "      <td>MULTIPOLYGON (((28.49302 -13.18086, 28.49362 -...</td>\n",
       "    </tr>\n",
       "  </tbody>\n",
       "</table>\n",
       "</div>"
      ],
      "text/plain": [
       "           farmer       crop  district    province    area_ha  \\\n",
       "0  Killarney Farm  Groundnut  Chibombo     Central  20.852368   \n",
       "1        ADM Farm  Groundnut  Chibombo     Central  53.496625   \n",
       "2      Simon Hunt  Groundnut   Mpongwe  Copperbelt  19.604325   \n",
       "3    Isranet Farm  Groundnut   Mpongwe  Copperbelt  49.826289   \n",
       "4   Matulufu Farm  Groundnut  Luanshya  Copperbelt  30.613994   \n",
       "\n",
       "                                            geometry  \n",
       "0  MULTIPOLYGON (((28.40682 -14.81873, 28.40445 -...  \n",
       "1  MULTIPOLYGON (((28.29156 -14.81992, 28.29139 -...  \n",
       "2  MULTIPOLYGON (((28.31578 -13.61503, 28.322 -13...  \n",
       "3  MULTIPOLYGON (((28.41546 -13.6795, 28.41705 -1...  \n",
       "4  MULTIPOLYGON (((28.49302 -13.18086, 28.49362 -...  "
      ]
     },
     "execution_count": 33,
     "metadata": {},
     "output_type": "execute_result"
    }
   ],
   "source": [
    "farms_df = gpd.read_file(r\"data\\vector\\ce_farms.gpkg\")\n",
    "farms = farms_df[['farmer', 'crop', 'district', 'province', 'area_ha', 'geometry']]\n",
    "farms.head()"
   ]
  },
  {
   "cell_type": "code",
   "execution_count": 41,
   "id": "f7ecad3a",
   "metadata": {},
   "outputs": [
    {
     "data": {
      "text/html": [
       "<div>\n",
       "<style scoped>\n",
       "    .dataframe tbody tr th:only-of-type {\n",
       "        vertical-align: middle;\n",
       "    }\n",
       "\n",
       "    .dataframe tbody tr th {\n",
       "        vertical-align: top;\n",
       "    }\n",
       "\n",
       "    .dataframe thead th {\n",
       "        text-align: right;\n",
       "    }\n",
       "</style>\n",
       "<table border=\"1\" class=\"dataframe\">\n",
       "  <thead>\n",
       "    <tr style=\"text-align: right;\">\n",
       "      <th></th>\n",
       "      <th>farmer</th>\n",
       "      <th>crop</th>\n",
       "      <th>district</th>\n",
       "      <th>province</th>\n",
       "      <th>area_ha</th>\n",
       "      <th>geometry</th>\n",
       "    </tr>\n",
       "  </thead>\n",
       "  <tbody>\n",
       "    <tr>\n",
       "      <th>1</th>\n",
       "      <td>ADM Farm</td>\n",
       "      <td>Groundnut</td>\n",
       "      <td>Chibombo</td>\n",
       "      <td>Central</td>\n",
       "      <td>53.496625</td>\n",
       "      <td>MULTIPOLYGON (((28.29156 -14.81992, 28.29139 -...</td>\n",
       "    </tr>\n",
       "    <tr>\n",
       "      <th>15</th>\n",
       "      <td>ADM Farm</td>\n",
       "      <td>Groundnut</td>\n",
       "      <td>Chibombo</td>\n",
       "      <td>Central</td>\n",
       "      <td>25.921008</td>\n",
       "      <td>MULTIPOLYGON (((28.29315 -14.81159, 28.2955 -1...</td>\n",
       "    </tr>\n",
       "  </tbody>\n",
       "</table>\n",
       "</div>"
      ],
      "text/plain": [
       "      farmer       crop  district province    area_ha  \\\n",
       "1   ADM Farm  Groundnut  Chibombo  Central  53.496625   \n",
       "15  ADM Farm  Groundnut  Chibombo  Central  25.921008   \n",
       "\n",
       "                                             geometry  \n",
       "1   MULTIPOLYGON (((28.29156 -14.81992, 28.29139 -...  \n",
       "15  MULTIPOLYGON (((28.29315 -14.81159, 28.2955 -1...  "
      ]
     },
     "execution_count": 41,
     "metadata": {},
     "output_type": "execute_result"
    }
   ],
   "source": [
    "selected_farm_name = \"ADM Farm\"\n",
    "\n",
    "selected_farm = farms[farms[\"farmer\"] == selected_farm_name]\n",
    "selected_farm"
   ]
  },
  {
   "cell_type": "code",
   "execution_count": 44,
   "id": "0dba77e8",
   "metadata": {},
   "outputs": [
    {
     "data": {
      "application/vnd.jupyter.widget-view+json": {
       "model_id": "4b8359c2363d4754ad8a71d613b139d1",
       "version_major": 2,
       "version_minor": 0
      },
      "text/plain": [
       "Map(center=[-13.2, 28], controls=(ZoomControl(options=['position', 'zoom_in_text', 'zoom_in_title', 'zoom_out_…"
      ]
     },
     "execution_count": 44,
     "metadata": {},
     "output_type": "execute_result"
    }
   ],
   "source": [
    "m = leafmap.Map(center= [-13.2, 28], zoom= 6.5, height= \"1000px\")\n",
    "m.add_basemap(\"ROADMAP\")\n",
    "m.add_gdf(selected_farm, zoom_to_layer=True, layer_name=\"Farms\")\n",
    "# m.to_streamlit(height=700)\n",
    "m"
   ]
  }
 ],
 "metadata": {
  "kernelspec": {
   "display_name": "st-env",
   "language": "python",
   "name": "python3"
  },
  "language_info": {
   "codemirror_mode": {
    "name": "ipython",
    "version": 3
   },
   "file_extension": ".py",
   "mimetype": "text/x-python",
   "name": "python",
   "nbconvert_exporter": "python",
   "pygments_lexer": "ipython3",
   "version": "3.9.23"
  }
 },
 "nbformat": 4,
 "nbformat_minor": 5
}
