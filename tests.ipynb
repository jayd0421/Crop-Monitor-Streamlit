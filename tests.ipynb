{
 "cells": [
  {
   "cell_type": "code",
   "execution_count": 46,
   "id": "df61ea53",
   "metadata": {},
   "outputs": [
    {
     "data": {
      "text/html": [
       "\n",
       "            <style>\n",
       "                .geemap-dark {\n",
       "                    --jp-widgets-color: white;\n",
       "                    --jp-widgets-label-color: white;\n",
       "                    --jp-ui-font-color1: white;\n",
       "                    --jp-layout-color2: #454545;\n",
       "                    background-color: #383838;\n",
       "                }\n",
       "\n",
       "                .geemap-dark .jupyter-button {\n",
       "                    --jp-layout-color3: #383838;\n",
       "                }\n",
       "\n",
       "                .geemap-colab {\n",
       "                    background-color: var(--colab-primary-surface-color, white);\n",
       "                }\n",
       "\n",
       "                .geemap-colab .jupyter-button {\n",
       "                    --jp-layout-color3: var(--colab-primary-surface-color, white);\n",
       "                }\n",
       "            </style>\n",
       "            "
      ],
      "text/plain": [
       "<IPython.core.display.HTML object>"
      ]
     },
     "metadata": {},
     "output_type": "display_data"
    }
   ],
   "source": [
    "import leafmap\n",
    "import streamlit\n",
    "import geopandas as gpd\n",
    "import ee\n",
    "import geemap"
   ]
  },
  {
   "cell_type": "code",
   "execution_count": 48,
   "id": "3d6d5166",
   "metadata": {},
   "outputs": [
    {
     "data": {
      "text/html": [
       "\n",
       "            <style>\n",
       "                .geemap-dark {\n",
       "                    --jp-widgets-color: white;\n",
       "                    --jp-widgets-label-color: white;\n",
       "                    --jp-ui-font-color1: white;\n",
       "                    --jp-layout-color2: #454545;\n",
       "                    background-color: #383838;\n",
       "                }\n",
       "\n",
       "                .geemap-dark .jupyter-button {\n",
       "                    --jp-layout-color3: #383838;\n",
       "                }\n",
       "\n",
       "                .geemap-colab {\n",
       "                    background-color: var(--colab-primary-surface-color, white);\n",
       "                }\n",
       "\n",
       "                .geemap-colab .jupyter-button {\n",
       "                    --jp-layout-color3: var(--colab-primary-surface-color, white);\n",
       "                }\n",
       "            </style>\n",
       "            "
      ],
      "text/plain": [
       "<IPython.core.display.HTML object>"
      ]
     },
     "metadata": {},
     "output_type": "display_data"
    }
   ],
   "source": [
    "# ee.Authenticate()\n",
    "ee.Initialize()"
   ]
  },
  {
   "cell_type": "code",
   "execution_count": null,
   "id": "5f0381da",
   "metadata": {},
   "outputs": [
    {
     "data": {
      "text/html": [
       "\n",
       "            <style>\n",
       "                .geemap-dark {\n",
       "                    --jp-widgets-color: white;\n",
       "                    --jp-widgets-label-color: white;\n",
       "                    --jp-ui-font-color1: white;\n",
       "                    --jp-layout-color2: #454545;\n",
       "                    background-color: #383838;\n",
       "                }\n",
       "\n",
       "                .geemap-dark .jupyter-button {\n",
       "                    --jp-layout-color3: #383838;\n",
       "                }\n",
       "\n",
       "                .geemap-colab {\n",
       "                    background-color: var(--colab-primary-surface-color, white);\n",
       "                }\n",
       "\n",
       "                .geemap-colab .jupyter-button {\n",
       "                    --jp-layout-color3: var(--colab-primary-surface-color, white);\n",
       "                }\n",
       "            </style>\n",
       "            "
      ],
      "text/plain": [
       "<IPython.core.display.HTML object>"
      ]
     },
     "metadata": {},
     "output_type": "display_data"
    },
    {
     "data": {
      "text/html": [
       "<div>\n",
       "<style scoped>\n",
       "    .dataframe tbody tr th:only-of-type {\n",
       "        vertical-align: middle;\n",
       "    }\n",
       "\n",
       "    .dataframe tbody tr th {\n",
       "        vertical-align: top;\n",
       "    }\n",
       "\n",
       "    .dataframe thead th {\n",
       "        text-align: right;\n",
       "    }\n",
       "</style>\n",
       "<table border=\"1\" class=\"dataframe\">\n",
       "  <thead>\n",
       "    <tr style=\"text-align: right;\">\n",
       "      <th></th>\n",
       "      <th>farmer</th>\n",
       "      <th>crop</th>\n",
       "      <th>district</th>\n",
       "      <th>province</th>\n",
       "      <th>area_ha</th>\n",
       "      <th>geometry</th>\n",
       "    </tr>\n",
       "  </thead>\n",
       "  <tbody>\n",
       "    <tr>\n",
       "      <th>0</th>\n",
       "      <td>Killarney Farm</td>\n",
       "      <td>Groundnut</td>\n",
       "      <td>Chibombo</td>\n",
       "      <td>Central</td>\n",
       "      <td>20.852368</td>\n",
       "      <td>MULTIPOLYGON (((28.40682 -14.81873, 28.40445 -...</td>\n",
       "    </tr>\n",
       "    <tr>\n",
       "      <th>1</th>\n",
       "      <td>ADM Farm</td>\n",
       "      <td>Groundnut</td>\n",
       "      <td>Chibombo</td>\n",
       "      <td>Central</td>\n",
       "      <td>53.496625</td>\n",
       "      <td>MULTIPOLYGON (((28.29156 -14.81992, 28.29139 -...</td>\n",
       "    </tr>\n",
       "    <tr>\n",
       "      <th>2</th>\n",
       "      <td>Simon Hunt</td>\n",
       "      <td>Groundnut</td>\n",
       "      <td>Mpongwe</td>\n",
       "      <td>Copperbelt</td>\n",
       "      <td>19.604325</td>\n",
       "      <td>MULTIPOLYGON (((28.31578 -13.61503, 28.322 -13...</td>\n",
       "    </tr>\n",
       "    <tr>\n",
       "      <th>3</th>\n",
       "      <td>Isranet Farm</td>\n",
       "      <td>Groundnut</td>\n",
       "      <td>Mpongwe</td>\n",
       "      <td>Copperbelt</td>\n",
       "      <td>49.826289</td>\n",
       "      <td>MULTIPOLYGON (((28.41546 -13.6795, 28.41705 -1...</td>\n",
       "    </tr>\n",
       "    <tr>\n",
       "      <th>4</th>\n",
       "      <td>Matulufu Farm</td>\n",
       "      <td>Groundnut</td>\n",
       "      <td>Luanshya</td>\n",
       "      <td>Copperbelt</td>\n",
       "      <td>30.613994</td>\n",
       "      <td>MULTIPOLYGON (((28.49302 -13.18086, 28.49362 -...</td>\n",
       "    </tr>\n",
       "  </tbody>\n",
       "</table>\n",
       "</div>"
      ],
      "text/plain": [
       "           farmer       crop  district    province    area_ha  \\\n",
       "0  Killarney Farm  Groundnut  Chibombo     Central  20.852368   \n",
       "1        ADM Farm  Groundnut  Chibombo     Central  53.496625   \n",
       "2      Simon Hunt  Groundnut   Mpongwe  Copperbelt  19.604325   \n",
       "3    Isranet Farm  Groundnut   Mpongwe  Copperbelt  49.826289   \n",
       "4   Matulufu Farm  Groundnut  Luanshya  Copperbelt  30.613994   \n",
       "\n",
       "                                            geometry  \n",
       "0  MULTIPOLYGON (((28.40682 -14.81873, 28.40445 -...  \n",
       "1  MULTIPOLYGON (((28.29156 -14.81992, 28.29139 -...  \n",
       "2  MULTIPOLYGON (((28.31578 -13.61503, 28.322 -13...  \n",
       "3  MULTIPOLYGON (((28.41546 -13.6795, 28.41705 -1...  \n",
       "4  MULTIPOLYGON (((28.49302 -13.18086, 28.49362 -...  "
      ]
     },
     "execution_count": 54,
     "metadata": {},
     "output_type": "execute_result"
    }
   ],
   "source": [
    "farms_gdf = gpd.read_file(r\"data\\vector\\ce_farms.gpkg\")\n",
    "farms = farms_gdf[['farmer', 'crop', 'district', 'province', 'area_ha', 'geometry']]\n",
    "farms.head()"
   ]
  },
  {
   "cell_type": "code",
   "execution_count": 63,
   "id": "f7ecad3a",
   "metadata": {},
   "outputs": [
    {
     "data": {
      "text/html": [
       "\n",
       "            <style>\n",
       "                .geemap-dark {\n",
       "                    --jp-widgets-color: white;\n",
       "                    --jp-widgets-label-color: white;\n",
       "                    --jp-ui-font-color1: white;\n",
       "                    --jp-layout-color2: #454545;\n",
       "                    background-color: #383838;\n",
       "                }\n",
       "\n",
       "                .geemap-dark .jupyter-button {\n",
       "                    --jp-layout-color3: #383838;\n",
       "                }\n",
       "\n",
       "                .geemap-colab {\n",
       "                    background-color: var(--colab-primary-surface-color, white);\n",
       "                }\n",
       "\n",
       "                .geemap-colab .jupyter-button {\n",
       "                    --jp-layout-color3: var(--colab-primary-surface-color, white);\n",
       "                }\n",
       "            </style>\n",
       "            "
      ],
      "text/plain": [
       "<IPython.core.display.HTML object>"
      ]
     },
     "metadata": {},
     "output_type": "display_data"
    }
   ],
   "source": [
    "selected_farm_name = \"Simon Hunt\"\n",
    "\n",
    "selected_farm = farms[farms[\"farmer\"] == selected_farm_name]\n",
    "selected_farm_ee = geemap.gdf_to_ee(selected_farm)\n",
    "\n",
    "selected_start_date = '2024-06-01'\n",
    "selected_end_date = '2024-07-30'\n",
    "max_cloud_cover = 20"
   ]
  },
  {
   "cell_type": "code",
   "execution_count": 60,
   "id": "c108c646",
   "metadata": {},
   "outputs": [
    {
     "data": {
      "text/html": [
       "\n",
       "            <style>\n",
       "                .geemap-dark {\n",
       "                    --jp-widgets-color: white;\n",
       "                    --jp-widgets-label-color: white;\n",
       "                    --jp-ui-font-color1: white;\n",
       "                    --jp-layout-color2: #454545;\n",
       "                    background-color: #383838;\n",
       "                }\n",
       "\n",
       "                .geemap-dark .jupyter-button {\n",
       "                    --jp-layout-color3: #383838;\n",
       "                }\n",
       "\n",
       "                .geemap-colab {\n",
       "                    background-color: var(--colab-primary-surface-color, white);\n",
       "                }\n",
       "\n",
       "                .geemap-colab .jupyter-button {\n",
       "                    --jp-layout-color3: var(--colab-primary-surface-color, white);\n",
       "                }\n",
       "            </style>\n",
       "            "
      ],
      "text/plain": [
       "<IPython.core.display.HTML object>"
      ]
     },
     "metadata": {},
     "output_type": "display_data"
    }
   ],
   "source": [
    "def get_available_images(selected_farm, selected_start_date, selected_end_date, max_cloud_cover, farms_gdf):\n",
    "    selected_farm_gdf = farms_gdf[farms_gdf[\"farmer\"] == selected_farm]\n",
    "    \n",
    "    proj_selected_farm_gdf = selected_farm_gdf.to_crs(epsg=3857)\n",
    "    proj_selected_farm_gdf[\"geometry\"] = proj_selected_farm_gdf.geometry.buffer(50)\n",
    "    buffered_selected_farm_gdf = proj_selected_farm_gdf.to_crs(proj_selected_farm_gdf.crs)\n",
    "\n",
    "    buffered_selected_farm_ee = geemap.gdf_to_ee(buffered_selected_farm_gdf)\n",
    "\n",
    "    available_images =  ee.ImageCollection(\"COPERNICUS/S2_SR_HARMONIZED\") \\\n",
    "        .filterBounds(buffered_selected_farm_ee) \\\n",
    "        .filterDate(selected_start_date, selected_end_date) \\\n",
    "        .select([\"B12\", \"B11\", \"B8\", \"B4\", \"B3\", \"B2\"]) \\\n",
    "        .filter(ee.Filter.lt(\"CLOUDY_PIXEL_PERCENTAGE\", max_cloud_cover))\n",
    "    \n",
    "    available_image = available_images.first().clip(buffered_selected_farm_ee)\n",
    "    return available_image"
   ]
  },
  {
   "cell_type": "code",
   "execution_count": 61,
   "id": "6815be75",
   "metadata": {},
   "outputs": [
    {
     "data": {
      "text/html": [
       "\n",
       "            <style>\n",
       "                .geemap-dark {\n",
       "                    --jp-widgets-color: white;\n",
       "                    --jp-widgets-label-color: white;\n",
       "                    --jp-ui-font-color1: white;\n",
       "                    --jp-layout-color2: #454545;\n",
       "                    background-color: #383838;\n",
       "                }\n",
       "\n",
       "                .geemap-dark .jupyter-button {\n",
       "                    --jp-layout-color3: #383838;\n",
       "                }\n",
       "\n",
       "                .geemap-colab {\n",
       "                    background-color: var(--colab-primary-surface-color, white);\n",
       "                }\n",
       "\n",
       "                .geemap-colab .jupyter-button {\n",
       "                    --jp-layout-color3: var(--colab-primary-surface-color, white);\n",
       "                }\n",
       "            </style>\n",
       "            "
      ],
      "text/plain": [
       "<IPython.core.display.HTML object>"
      ]
     },
     "metadata": {},
     "output_type": "display_data"
    }
   ],
   "source": [
    "available_image = get_available_images(selected_farm_name, selected_start_date, selected_end_date, max_cloud_cover, farms)"
   ]
  },
  {
   "cell_type": "code",
   "execution_count": 89,
   "id": "5f65fa70",
   "metadata": {},
   "outputs": [
    {
     "data": {
      "text/html": [
       "\n",
       "            <style>\n",
       "                .geemap-dark {\n",
       "                    --jp-widgets-color: white;\n",
       "                    --jp-widgets-label-color: white;\n",
       "                    --jp-ui-font-color1: white;\n",
       "                    --jp-layout-color2: #454545;\n",
       "                    background-color: #383838;\n",
       "                }\n",
       "\n",
       "                .geemap-dark .jupyter-button {\n",
       "                    --jp-layout-color3: #383838;\n",
       "                }\n",
       "\n",
       "                .geemap-colab {\n",
       "                    background-color: var(--colab-primary-surface-color, white);\n",
       "                }\n",
       "\n",
       "                .geemap-colab .jupyter-button {\n",
       "                    --jp-layout-color3: var(--colab-primary-surface-color, white);\n",
       "                }\n",
       "            </style>\n",
       "            "
      ],
      "text/plain": [
       "<IPython.core.display.HTML object>"
      ]
     },
     "metadata": {},
     "output_type": "display_data"
    },
    {
     "data": {
      "text/plain": [
       "{'B2_max': 809,\n",
       " 'B2_min': 503,\n",
       " 'B3_max': 987,\n",
       " 'B3_min': 550,\n",
       " 'B4_max': 1520,\n",
       " 'B4_min': 513}"
      ]
     },
     "execution_count": 89,
     "metadata": {},
     "output_type": "execute_result"
    }
   ],
   "source": [
    "min = available_image.select(['B4', 'B3', 'B2']).reduceRegion(\n",
    "            reducer= ee.Reducer.minMax(),\n",
    "            geometry= selected_farm_ee,\n",
    "            scale= 10,\n",
    "            maxPixels=1e8\n",
    "        )\n",
    "min.getInfo()"
   ]
  },
  {
   "cell_type": "code",
   "execution_count": 87,
   "id": "c0d504be",
   "metadata": {},
   "outputs": [
    {
     "data": {
      "text/html": [
       "\n",
       "            <style>\n",
       "                .geemap-dark {\n",
       "                    --jp-widgets-color: white;\n",
       "                    --jp-widgets-label-color: white;\n",
       "                    --jp-ui-font-color1: white;\n",
       "                    --jp-layout-color2: #454545;\n",
       "                    background-color: #383838;\n",
       "                }\n",
       "\n",
       "                .geemap-dark .jupyter-button {\n",
       "                    --jp-layout-color3: #383838;\n",
       "                }\n",
       "\n",
       "                .geemap-colab {\n",
       "                    background-color: var(--colab-primary-surface-color, white);\n",
       "                }\n",
       "\n",
       "                .geemap-colab .jupyter-button {\n",
       "                    --jp-layout-color3: var(--colab-primary-surface-color, white);\n",
       "                }\n",
       "            </style>\n",
       "            "
      ],
      "text/plain": [
       "<IPython.core.display.HTML object>"
      ]
     },
     "metadata": {},
     "output_type": "display_data"
    },
    {
     "data": {
      "application/vnd.jupyter.widget-view+json": {
       "model_id": "d18eee5d8919424fbfeaf9482669394a",
       "version_major": 2,
       "version_minor": 0
      },
      "text/plain": [
       "Map(center=[0, 0], controls=(WidgetControl(options=['position', 'transparent_bg'], widget=SearchDataGUI(childr…"
      ]
     },
     "execution_count": 87,
     "metadata": {},
     "output_type": "execute_result"
    }
   ],
   "source": [
    "n = geemap.Map()\n",
    "n.add_basemap(\"ROADMAP\")\n",
    "n.add_ee_layer(available_image, vis_params={\"min\":200, \"max\": 2000, \"bands\": [\"B4\", \"B3\", \"B2\"]}, name ='Image')\n",
    "n.add_layer(selected_farm_ee, name= 'Farm')\n",
    "n.zoom_to_gdf(selected_farm)\n",
    "n"
   ]
  },
  {
   "cell_type": "code",
   "execution_count": 44,
   "id": "0dba77e8",
   "metadata": {},
   "outputs": [
    {
     "data": {
      "application/vnd.jupyter.widget-view+json": {
       "model_id": "4b8359c2363d4754ad8a71d613b139d1",
       "version_major": 2,
       "version_minor": 0
      },
      "text/plain": [
       "Map(center=[-13.2, 28], controls=(ZoomControl(options=['position', 'zoom_in_text', 'zoom_in_title', 'zoom_out_…"
      ]
     },
     "execution_count": 44,
     "metadata": {},
     "output_type": "execute_result"
    }
   ],
   "source": [
    "m = leafmap.Map(center= [-13.2, 28], zoom= 6.5, height= \"1000px\")\n",
    "m.add_basemap(\"ROADMAP\")\n",
    "m.add_gdf(selected_farm, zoom_to_layer=True, layer_name=\"Farms\")\n",
    "# m.to_streamlit(height=700)\n",
    "m"
   ]
  }
 ],
 "metadata": {
  "kernelspec": {
   "display_name": "st-env",
   "language": "python",
   "name": "python3"
  },
  "language_info": {
   "codemirror_mode": {
    "name": "ipython",
    "version": 3
   },
   "file_extension": ".py",
   "mimetype": "text/x-python",
   "name": "python",
   "nbconvert_exporter": "python",
   "pygments_lexer": "ipython3",
   "version": "3.9.23"
  }
 },
 "nbformat": 4,
 "nbformat_minor": 5
}
