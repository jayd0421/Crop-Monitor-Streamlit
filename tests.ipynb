{
 "cells": [
  {
   "cell_type": "code",
   "execution_count": 5,
   "id": "df61ea53",
   "metadata": {},
   "outputs": [],
   "source": [
    "import leafmap\n",
    "import streamlit"
   ]
  },
  {
   "cell_type": "code",
   "execution_count": 18,
   "id": "0dba77e8",
   "metadata": {},
   "outputs": [
    {
     "data": {
      "application/vnd.jupyter.widget-view+json": {
       "model_id": "579437240f4a4402921238bb81cd59d3",
       "version_major": 2,
       "version_minor": 0
      },
      "text/plain": [
       "Map(center=[-13, 28], controls=(ZoomControl(options=['position', 'zoom_in_text', 'zoom_in_title', 'zoom_out_te…"
      ]
     },
     "execution_count": 18,
     "metadata": {},
     "output_type": "execute_result"
    }
   ],
   "source": [
    "m = leafmap.Map(center= [-13, 28], zoom= 6, height= \"700px\")\n",
    "m.add_basemap(\"ROADMAP\")\n",
    "# m.to_streamlit(height=700)\n",
    "m"
   ]
  }
 ],
 "metadata": {
  "kernelspec": {
   "display_name": "geoProg",
   "language": "python",
   "name": "python3"
  },
  "language_info": {
   "codemirror_mode": {
    "name": "ipython",
    "version": 3
   },
   "file_extension": ".py",
   "mimetype": "text/x-python",
   "name": "python",
   "nbconvert_exporter": "python",
   "pygments_lexer": "ipython3",
   "version": "3.11.11"
  }
 },
 "nbformat": 4,
 "nbformat_minor": 5
}
